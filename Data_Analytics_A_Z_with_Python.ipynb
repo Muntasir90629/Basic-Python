{
  "nbformat": 4,
  "nbformat_minor": 0,
  "metadata": {
    "colab": {
      "name": "Data Analytics A-Z with Python.ipynb",
      "provenance": [],
      "collapsed_sections": [],
      "authorship_tag": "ABX9TyOmlsALLwX/YS3hQKkwsEBq",
      "include_colab_link": true
    },
    "kernelspec": {
      "name": "python3",
      "display_name": "Python 3"
    }
  },
  "cells": [
    {
      "cell_type": "markdown",
      "metadata": {
        "id": "view-in-github",
        "colab_type": "text"
      },
      "source": [
        "<a href=\"https://colab.research.google.com/github/Muntasir90629/Basic-Python/blob/master/Data_Analytics_A_Z_with_Python.ipynb\" target=\"_parent\"><img src=\"https://colab.research.google.com/assets/colab-badge.svg\" alt=\"Open In Colab\"/></a>"
      ]
    },
    {
      "cell_type": "code",
      "metadata": {
        "id": "RTAsbQ4etHRw"
      },
      "source": [
        "my_list=[1,3,6]"
      ],
      "execution_count": 94,
      "outputs": []
    },
    {
      "cell_type": "code",
      "metadata": {
        "colab": {
          "base_uri": "https://localhost:8080/"
        },
        "id": "ybt6nfP8tubf",
        "outputId": "b51ee181-86ed-410d-d33a-1573c7dce660"
      },
      "source": [
        "print(my_list)"
      ],
      "execution_count": 95,
      "outputs": [
        {
          "output_type": "stream",
          "text": [
            "[1, 3, 6]\n"
          ],
          "name": "stdout"
        }
      ]
    },
    {
      "cell_type": "code",
      "metadata": {
        "id": "Gh82CJvFtyXW"
      },
      "source": [
        "new_list=[1,2,3,4,5,6,'b', 'hello']"
      ],
      "execution_count": 96,
      "outputs": []
    },
    {
      "cell_type": "code",
      "metadata": {
        "colab": {
          "base_uri": "https://localhost:8080/"
        },
        "id": "tsnjeAUJt5tU",
        "outputId": "6d1b02dc-deef-4c05-a9ea-8eba3cab2f20"
      },
      "source": [
        "new_list"
      ],
      "execution_count": 97,
      "outputs": [
        {
          "output_type": "execute_result",
          "data": {
            "text/plain": [
              "[1, 2, 3, 4, 5, 6, 'b', 'hello']"
            ]
          },
          "metadata": {
            "tags": []
          },
          "execution_count": 97
        }
      ]
    },
    {
      "cell_type": "code",
      "metadata": {
        "colab": {
          "base_uri": "https://localhost:8080/"
        },
        "id": "CRz9T5zLuF8W",
        "outputId": "9bba1b17-6295-4d9d-91f4-5d797dd0e618"
      },
      "source": [
        "len(new_list)"
      ],
      "execution_count": 98,
      "outputs": [
        {
          "output_type": "execute_result",
          "data": {
            "text/plain": [
              "8"
            ]
          },
          "metadata": {
            "tags": []
          },
          "execution_count": 98
        }
      ]
    },
    {
      "cell_type": "code",
      "metadata": {
        "colab": {
          "base_uri": "https://localhost:8080/"
        },
        "id": "LgCNcP7HuK98",
        "outputId": "97107096-cbcc-43f7-f950-5c1041941cf6"
      },
      "source": [
        "new_list[1]"
      ],
      "execution_count": 99,
      "outputs": [
        {
          "output_type": "execute_result",
          "data": {
            "text/plain": [
              "2"
            ]
          },
          "metadata": {
            "tags": []
          },
          "execution_count": 99
        }
      ]
    },
    {
      "cell_type": "code",
      "metadata": {
        "colab": {
          "base_uri": "https://localhost:8080/"
        },
        "id": "7r96gDMFuUQx",
        "outputId": "e0832913-d616-4dd4-9eb8-e50b162a43cc"
      },
      "source": [
        "new_list[1:]"
      ],
      "execution_count": 100,
      "outputs": [
        {
          "output_type": "execute_result",
          "data": {
            "text/plain": [
              "[2, 3, 4, 5, 6, 'b', 'hello']"
            ]
          },
          "metadata": {
            "tags": []
          },
          "execution_count": 100
        }
      ]
    },
    {
      "cell_type": "code",
      "metadata": {
        "colab": {
          "base_uri": "https://localhost:8080/"
        },
        "id": "IG_3aIi3uaYn",
        "outputId": "f9258da8-499d-48a7-c758-b15124432294"
      },
      "source": [
        "new_list[1:3]"
      ],
      "execution_count": 101,
      "outputs": [
        {
          "output_type": "execute_result",
          "data": {
            "text/plain": [
              "[2, 3]"
            ]
          },
          "metadata": {
            "tags": []
          },
          "execution_count": 101
        }
      ]
    },
    {
      "cell_type": "code",
      "metadata": {
        "colab": {
          "base_uri": "https://localhost:8080/"
        },
        "id": "GAPOWs6XurEy",
        "outputId": "203261e5-2deb-41d9-b94b-7448980af9fb"
      },
      "source": [
        "new_list+['90']"
      ],
      "execution_count": 102,
      "outputs": [
        {
          "output_type": "execute_result",
          "data": {
            "text/plain": [
              "[1, 2, 3, 4, 5, 6, 'b', 'hello', '90']"
            ]
          },
          "metadata": {
            "tags": []
          },
          "execution_count": 102
        }
      ]
    },
    {
      "cell_type": "code",
      "metadata": {
        "id": "e9G6HPJouyok",
        "colab": {
          "base_uri": "https://localhost:8080/"
        },
        "outputId": "0309dc2e-027a-49fa-f9a4-b22a3ad98786"
      },
      "source": [
        "new_list*2"
      ],
      "execution_count": 103,
      "outputs": [
        {
          "output_type": "execute_result",
          "data": {
            "text/plain": [
              "[1, 2, 3, 4, 5, 6, 'b', 'hello', 1, 2, 3, 4, 5, 6, 'b', 'hello']"
            ]
          },
          "metadata": {
            "tags": []
          },
          "execution_count": 103
        }
      ]
    },
    {
      "cell_type": "code",
      "metadata": {
        "id": "kj3I843Ay5l-"
      },
      "source": [
        "a=new_list\r\n"
      ],
      "execution_count": 104,
      "outputs": []
    },
    {
      "cell_type": "code",
      "metadata": {
        "id": "GSIv-Prly_z2"
      },
      "source": [
        "a.append('python')"
      ],
      "execution_count": 105,
      "outputs": []
    },
    {
      "cell_type": "code",
      "metadata": {
        "colab": {
          "base_uri": "https://localhost:8080/"
        },
        "id": "8xaDVqguzGOM",
        "outputId": "77f0bbda-8593-4acb-d9ff-b7aa90038405"
      },
      "source": [
        "a"
      ],
      "execution_count": 106,
      "outputs": [
        {
          "output_type": "execute_result",
          "data": {
            "text/plain": [
              "[1, 2, 3, 4, 5, 6, 'b', 'hello', 'python']"
            ]
          },
          "metadata": {
            "tags": []
          },
          "execution_count": 106
        }
      ]
    },
    {
      "cell_type": "code",
      "metadata": {
        "colab": {
          "base_uri": "https://localhost:8080/",
          "height": 35
        },
        "id": "aDY81S7yzKSe",
        "outputId": "cfd37cc6-3f85-4692-9b90-26358b8d791e"
      },
      "source": [
        "a.pop()"
      ],
      "execution_count": 107,
      "outputs": [
        {
          "output_type": "execute_result",
          "data": {
            "application/vnd.google.colaboratory.intrinsic+json": {
              "type": "string"
            },
            "text/plain": [
              "'python'"
            ]
          },
          "metadata": {
            "tags": []
          },
          "execution_count": 107
        }
      ]
    },
    {
      "cell_type": "code",
      "metadata": {
        "colab": {
          "base_uri": "https://localhost:8080/"
        },
        "id": "68o_tc3hzUny",
        "outputId": "9d301ceb-16b9-4530-b169-d3d4c4b33ca7"
      },
      "source": [
        "a"
      ],
      "execution_count": 108,
      "outputs": [
        {
          "output_type": "execute_result",
          "data": {
            "text/plain": [
              "[1, 2, 3, 4, 5, 6, 'b', 'hello']"
            ]
          },
          "metadata": {
            "tags": []
          },
          "execution_count": 108
        }
      ]
    },
    {
      "cell_type": "code",
      "metadata": {
        "colab": {
          "base_uri": "https://localhost:8080/"
        },
        "id": "vHqV_7YUzW-B",
        "outputId": "836b80b6-3af9-40fe-acac-68e3961e0e65"
      },
      "source": [
        "a.pop(2)"
      ],
      "execution_count": 109,
      "outputs": [
        {
          "output_type": "execute_result",
          "data": {
            "text/plain": [
              "3"
            ]
          },
          "metadata": {
            "tags": []
          },
          "execution_count": 109
        }
      ]
    },
    {
      "cell_type": "code",
      "metadata": {
        "id": "MstP24lPzfuW"
      },
      "source": [
        "a.reverse()"
      ],
      "execution_count": 110,
      "outputs": []
    },
    {
      "cell_type": "code",
      "metadata": {
        "colab": {
          "base_uri": "https://localhost:8080/"
        },
        "id": "gZAub98szk4x",
        "outputId": "3054ef22-3d6a-4582-8637-62a45c4b6d50"
      },
      "source": [
        "a"
      ],
      "execution_count": 111,
      "outputs": [
        {
          "output_type": "execute_result",
          "data": {
            "text/plain": [
              "['hello', 'b', 6, 5, 4, 2, 1]"
            ]
          },
          "metadata": {
            "tags": []
          },
          "execution_count": 111
        }
      ]
    },
    {
      "cell_type": "code",
      "metadata": {
        "id": "1v3--GgWzvGi"
      },
      "source": [
        "b=[6,8,4,1]"
      ],
      "execution_count": 112,
      "outputs": []
    },
    {
      "cell_type": "code",
      "metadata": {
        "id": "-7BpIbVDzy2b"
      },
      "source": [
        "b.sort()"
      ],
      "execution_count": 113,
      "outputs": []
    },
    {
      "cell_type": "code",
      "metadata": {
        "colab": {
          "base_uri": "https://localhost:8080/"
        },
        "id": "M-MRTi5Zz1um",
        "outputId": "a7097d18-8310-4054-e355-6c8ec228c393"
      },
      "source": [
        "b"
      ],
      "execution_count": 114,
      "outputs": [
        {
          "output_type": "execute_result",
          "data": {
            "text/plain": [
              "[1, 4, 6, 8]"
            ]
          },
          "metadata": {
            "tags": []
          },
          "execution_count": 114
        }
      ]
    },
    {
      "cell_type": "code",
      "metadata": {
        "id": "NLSEUbagz4Kn"
      },
      "source": [
        "a=[8,9,7]\r\n",
        "b=[9,0,8]\r\n",
        "c=[6,2,3]"
      ],
      "execution_count": 115,
      "outputs": []
    },
    {
      "cell_type": "code",
      "metadata": {
        "id": "73R_hPpB1cIQ"
      },
      "source": [
        "matrix=[a,b,c]"
      ],
      "execution_count": 116,
      "outputs": []
    },
    {
      "cell_type": "code",
      "metadata": {
        "colab": {
          "base_uri": "https://localhost:8080/"
        },
        "id": "4LHJXU9B1kXn",
        "outputId": "14488421-ee03-467c-955c-a83080a277e4"
      },
      "source": [
        "matrix"
      ],
      "execution_count": 117,
      "outputs": [
        {
          "output_type": "execute_result",
          "data": {
            "text/plain": [
              "[[8, 9, 7], [9, 0, 8], [6, 2, 3]]"
            ]
          },
          "metadata": {
            "tags": []
          },
          "execution_count": 117
        }
      ]
    },
    {
      "cell_type": "code",
      "metadata": {
        "id": "gibFBX2g1siL"
      },
      "source": [
        "t=(1,4,5,6)"
      ],
      "execution_count": 118,
      "outputs": []
    },
    {
      "cell_type": "code",
      "metadata": {
        "colab": {
          "base_uri": "https://localhost:8080/"
        },
        "id": "pIyelt7y6mSG",
        "outputId": "35832381-543a-4ae3-f06d-7d540e0d1acc"
      },
      "source": [
        "type(t)"
      ],
      "execution_count": 119,
      "outputs": [
        {
          "output_type": "execute_result",
          "data": {
            "text/plain": [
              "tuple"
            ]
          },
          "metadata": {
            "tags": []
          },
          "execution_count": 119
        }
      ]
    },
    {
      "cell_type": "code",
      "metadata": {
        "id": "iBY7Qyl86o2W"
      },
      "source": [
        "t=(56,'y','python')\r\n"
      ],
      "execution_count": 120,
      "outputs": []
    },
    {
      "cell_type": "code",
      "metadata": {
        "colab": {
          "base_uri": "https://localhost:8080/"
        },
        "id": "k3y7l65d6zjI",
        "outputId": "4fa8e1e2-a3f7-450d-8003-734a23c72bb5"
      },
      "source": [
        "t[0]"
      ],
      "execution_count": 121,
      "outputs": [
        {
          "output_type": "execute_result",
          "data": {
            "text/plain": [
              "56"
            ]
          },
          "metadata": {
            "tags": []
          },
          "execution_count": 121
        }
      ]
    },
    {
      "cell_type": "code",
      "metadata": {
        "colab": {
          "base_uri": "https://localhost:8080/"
        },
        "id": "wimqDi1e-4lO",
        "outputId": "09068634-bb60-4aac-8696-92a59d54b775"
      },
      "source": [
        "t[1:]"
      ],
      "execution_count": 122,
      "outputs": [
        {
          "output_type": "execute_result",
          "data": {
            "text/plain": [
              "('y', 'python')"
            ]
          },
          "metadata": {
            "tags": []
          },
          "execution_count": 122
        }
      ]
    },
    {
      "cell_type": "code",
      "metadata": {
        "colab": {
          "base_uri": "https://localhost:8080/"
        },
        "id": "PIlwh09W-7Ey",
        "outputId": "7ae1e800-1fd4-401c-db97-3d12f2427ac2"
      },
      "source": [
        "t.index('y')"
      ],
      "execution_count": 123,
      "outputs": [
        {
          "output_type": "execute_result",
          "data": {
            "text/plain": [
              "1"
            ]
          },
          "metadata": {
            "tags": []
          },
          "execution_count": 123
        }
      ]
    },
    {
      "cell_type": "code",
      "metadata": {
        "id": "jLCkiJ8c_HqI"
      },
      "source": [
        "v=(1,2,3,4,5,6,72,66664,3,2,2,4)"
      ],
      "execution_count": 124,
      "outputs": []
    },
    {
      "cell_type": "code",
      "metadata": {
        "colab": {
          "base_uri": "https://localhost:8080/"
        },
        "id": "CJsBMvs-_Oie",
        "outputId": "9b1cf8af-f3b4-4cf7-c30f-717fc9700444"
      },
      "source": [
        "v"
      ],
      "execution_count": 125,
      "outputs": [
        {
          "output_type": "execute_result",
          "data": {
            "text/plain": [
              "(1, 2, 3, 4, 5, 6, 72, 66664, 3, 2, 2, 4)"
            ]
          },
          "metadata": {
            "tags": []
          },
          "execution_count": 125
        }
      ]
    },
    {
      "cell_type": "code",
      "metadata": {
        "colab": {
          "base_uri": "https://localhost:8080/"
        },
        "id": "xj3CrurC_QhO",
        "outputId": "41c20a86-11ac-4157-92c1-9deda4f98ac1"
      },
      "source": [
        "v.count(2)"
      ],
      "execution_count": 126,
      "outputs": [
        {
          "output_type": "execute_result",
          "data": {
            "text/plain": [
              "3"
            ]
          },
          "metadata": {
            "tags": []
          },
          "execution_count": 126
        }
      ]
    },
    {
      "cell_type": "code",
      "metadata": {
        "id": "3i3RgMADBwd9"
      },
      "source": [
        "dict={'key':1, 'key2':2, 'key3':3}"
      ],
      "execution_count": 127,
      "outputs": []
    },
    {
      "cell_type": "code",
      "metadata": {
        "colab": {
          "base_uri": "https://localhost:8080/"
        },
        "id": "QJADkB6uEgCz",
        "outputId": "37b6f661-6c85-426b-c738-598dca1aebe8"
      },
      "source": [
        "dict"
      ],
      "execution_count": 128,
      "outputs": [
        {
          "output_type": "execute_result",
          "data": {
            "text/plain": [
              "{'key': 1, 'key2': 2, 'key3': 3}"
            ]
          },
          "metadata": {
            "tags": []
          },
          "execution_count": 128
        }
      ]
    },
    {
      "cell_type": "code",
      "metadata": {
        "colab": {
          "base_uri": "https://localhost:8080/"
        },
        "id": "dX0TQnCuEhpI",
        "outputId": "3f015bba-7977-4bb9-a285-6130f7e552ee"
      },
      "source": [
        "dict['key']"
      ],
      "execution_count": 129,
      "outputs": [
        {
          "output_type": "execute_result",
          "data": {
            "text/plain": [
              "1"
            ]
          },
          "metadata": {
            "tags": []
          },
          "execution_count": 129
        }
      ]
    },
    {
      "cell_type": "code",
      "metadata": {
        "id": "nAgyql5XlHf-"
      },
      "source": [
        "dict2={'k1': 6,'k2':[6,7,8,9,10],'k3':9}"
      ],
      "execution_count": 130,
      "outputs": []
    },
    {
      "cell_type": "code",
      "metadata": {
        "colab": {
          "base_uri": "https://localhost:8080/"
        },
        "id": "LhQz9v7flm2N",
        "outputId": "1a45e271-d801-420e-c644-a52107411d0d"
      },
      "source": [
        "dict2"
      ],
      "execution_count": 131,
      "outputs": [
        {
          "output_type": "execute_result",
          "data": {
            "text/plain": [
              "{'k1': 6, 'k2': [6, 7, 8, 9, 10], 'k3': 9}"
            ]
          },
          "metadata": {
            "tags": []
          },
          "execution_count": 131
        }
      ]
    },
    {
      "cell_type": "code",
      "metadata": {
        "colab": {
          "base_uri": "https://localhost:8080/"
        },
        "id": "yZSmxrillol-",
        "outputId": "ad4b3e98-b776-4db6-f088-1b03490b9086"
      },
      "source": [
        "dict2['k2']\r\n"
      ],
      "execution_count": 132,
      "outputs": [
        {
          "output_type": "execute_result",
          "data": {
            "text/plain": [
              "[6, 7, 8, 9, 10]"
            ]
          },
          "metadata": {
            "tags": []
          },
          "execution_count": 132
        }
      ]
    },
    {
      "cell_type": "code",
      "metadata": {
        "id": "Sb0MZrmQoyyu"
      },
      "source": [
        "dict2['k1']=3"
      ],
      "execution_count": 133,
      "outputs": []
    },
    {
      "cell_type": "code",
      "metadata": {
        "colab": {
          "base_uri": "https://localhost:8080/"
        },
        "id": "7anpWFfKo2y3",
        "outputId": "f7955317-1926-4421-9425-d9e21311750c"
      },
      "source": [
        "dict2"
      ],
      "execution_count": 134,
      "outputs": [
        {
          "output_type": "execute_result",
          "data": {
            "text/plain": [
              "{'k1': 3, 'k2': [6, 7, 8, 9, 10], 'k3': 9}"
            ]
          },
          "metadata": {
            "tags": []
          },
          "execution_count": 134
        }
      ]
    },
    {
      "cell_type": "code",
      "metadata": {
        "id": "ZE4ykNUxpAHD"
      },
      "source": [
        "d={}"
      ],
      "execution_count": 135,
      "outputs": []
    },
    {
      "cell_type": "code",
      "metadata": {
        "id": "sffB9QdgpBxQ"
      },
      "source": [
        "d['k1']='add'"
      ],
      "execution_count": 136,
      "outputs": []
    },
    {
      "cell_type": "code",
      "metadata": {
        "id": "dOeSNuNIpFbN"
      },
      "source": [
        "d['k2']='sum'"
      ],
      "execution_count": 137,
      "outputs": []
    },
    {
      "cell_type": "code",
      "metadata": {
        "colab": {
          "base_uri": "https://localhost:8080/"
        },
        "id": "1sPLPu7npJCH",
        "outputId": "9cc20328-9689-4977-bee6-e705d8d08dc4"
      },
      "source": [
        "d"
      ],
      "execution_count": 138,
      "outputs": [
        {
          "output_type": "execute_result",
          "data": {
            "text/plain": [
              "{'k1': 'add', 'k2': 'sum'}"
            ]
          },
          "metadata": {
            "tags": []
          },
          "execution_count": 138
        }
      ]
    },
    {
      "cell_type": "code",
      "metadata": {
        "id": "9mR0NbTbplfh"
      },
      "source": [
        "d={'k1':{'k2':8}}"
      ],
      "execution_count": 139,
      "outputs": []
    },
    {
      "cell_type": "code",
      "metadata": {
        "colab": {
          "base_uri": "https://localhost:8080/"
        },
        "id": "FnMu1Shyprzb",
        "outputId": "7bc201f7-38e8-4b20-d3e2-0cdbfb746f91"
      },
      "source": [
        "d"
      ],
      "execution_count": 140,
      "outputs": [
        {
          "output_type": "execute_result",
          "data": {
            "text/plain": [
              "{'k1': {'k2': 8}}"
            ]
          },
          "metadata": {
            "tags": []
          },
          "execution_count": 140
        }
      ]
    },
    {
      "cell_type": "code",
      "metadata": {
        "colab": {
          "base_uri": "https://localhost:8080/"
        },
        "id": "JegzufYWp2Rr",
        "outputId": "e6707033-d497-4c45-82c1-8b17308b53b5"
      },
      "source": [
        "dict.keys()"
      ],
      "execution_count": 141,
      "outputs": [
        {
          "output_type": "execute_result",
          "data": {
            "text/plain": [
              "dict_keys(['key', 'key2', 'key3'])"
            ]
          },
          "metadata": {
            "tags": []
          },
          "execution_count": 141
        }
      ]
    },
    {
      "cell_type": "code",
      "metadata": {
        "colab": {
          "base_uri": "https://localhost:8080/"
        },
        "id": "OhBhTPhnp-d3",
        "outputId": "a6c46d61-93de-4b64-d536-3f17f27e937f"
      },
      "source": [
        "dict.values()"
      ],
      "execution_count": 142,
      "outputs": [
        {
          "output_type": "execute_result",
          "data": {
            "text/plain": [
              "dict_values([1, 2, 3])"
            ]
          },
          "metadata": {
            "tags": []
          },
          "execution_count": 142
        }
      ]
    },
    {
      "cell_type": "code",
      "metadata": {
        "id": "vliXfWW1tY_U"
      },
      "source": [
        "x=set()"
      ],
      "execution_count": 143,
      "outputs": []
    },
    {
      "cell_type": "code",
      "metadata": {
        "id": "kKjcSfZhteEl"
      },
      "source": [
        "x.add(7)"
      ],
      "execution_count": 144,
      "outputs": []
    },
    {
      "cell_type": "code",
      "metadata": {
        "id": "MXrDKVlptjD1"
      },
      "source": [
        "x.add(5)"
      ],
      "execution_count": 145,
      "outputs": []
    },
    {
      "cell_type": "code",
      "metadata": {
        "id": "rGfFsFVKtlAP"
      },
      "source": [
        "x.add(3)"
      ],
      "execution_count": 146,
      "outputs": []
    },
    {
      "cell_type": "code",
      "metadata": {
        "colab": {
          "base_uri": "https://localhost:8080/"
        },
        "id": "NiOyi2w5tu9H",
        "outputId": "8f1ac97d-a206-47f4-d9da-0a90657cd8a8"
      },
      "source": [
        "x"
      ],
      "execution_count": 147,
      "outputs": [
        {
          "output_type": "execute_result",
          "data": {
            "text/plain": [
              "{3, 5, 7}"
            ]
          },
          "metadata": {
            "tags": []
          },
          "execution_count": 147
        }
      ]
    },
    {
      "cell_type": "code",
      "metadata": {
        "id": "6Jp2-z0GtyKe"
      },
      "source": [
        "#set are unoder collection of unique elements"
      ],
      "execution_count": 148,
      "outputs": []
    },
    {
      "cell_type": "code",
      "metadata": {
        "id": "15HIT7Q6uBlu"
      },
      "source": [
        "x.add(7)"
      ],
      "execution_count": 149,
      "outputs": []
    },
    {
      "cell_type": "code",
      "metadata": {
        "colab": {
          "base_uri": "https://localhost:8080/"
        },
        "id": "Cu-M4i2guIBJ",
        "outputId": "b0645fcb-ddbf-4df2-ff61-812be9217977"
      },
      "source": [
        "x"
      ],
      "execution_count": 150,
      "outputs": [
        {
          "output_type": "execute_result",
          "data": {
            "text/plain": [
              "{3, 5, 7}"
            ]
          },
          "metadata": {
            "tags": []
          },
          "execution_count": 150
        }
      ]
    },
    {
      "cell_type": "code",
      "metadata": {
        "id": "wpBlDLZpuMCr"
      },
      "source": [
        "list=[8,8,9,9,5,6,7]"
      ],
      "execution_count": 151,
      "outputs": []
    },
    {
      "cell_type": "code",
      "metadata": {
        "colab": {
          "base_uri": "https://localhost:8080/"
        },
        "id": "Re-UlkhtuSiC",
        "outputId": "bf479bd1-f552-4547-bfc3-7ac2a9f64236"
      },
      "source": [
        "set(list)"
      ],
      "execution_count": 152,
      "outputs": [
        {
          "output_type": "execute_result",
          "data": {
            "text/plain": [
              "{5, 6, 7, 8, 9}"
            ]
          },
          "metadata": {
            "tags": []
          },
          "execution_count": 152
        }
      ]
    },
    {
      "cell_type": "code",
      "metadata": {
        "id": "aTFLdOdFvOYo"
      },
      "source": [
        "#booleans"
      ],
      "execution_count": 153,
      "outputs": []
    },
    {
      "cell_type": "code",
      "metadata": {
        "colab": {
          "base_uri": "https://localhost:8080/"
        },
        "id": "DwMOzx8gvmIV",
        "outputId": "6d15f6b1-f135-4768-d7dd-7384194a778a"
      },
      "source": [
        "7>9"
      ],
      "execution_count": 154,
      "outputs": [
        {
          "output_type": "execute_result",
          "data": {
            "text/plain": [
              "False"
            ]
          },
          "metadata": {
            "tags": []
          },
          "execution_count": 154
        }
      ]
    },
    {
      "cell_type": "code",
      "metadata": {
        "colab": {
          "base_uri": "https://localhost:8080/"
        },
        "id": "vXJ1Lu_3vs-r",
        "outputId": "b974e4b4-8532-4b24-b63b-01b5026e0238"
      },
      "source": [
        "8>7"
      ],
      "execution_count": 155,
      "outputs": [
        {
          "output_type": "execute_result",
          "data": {
            "text/plain": [
              "True"
            ]
          },
          "metadata": {
            "tags": []
          },
          "execution_count": 155
        }
      ]
    },
    {
      "cell_type": "code",
      "metadata": {
        "id": "Yuj45hOSv1OX"
      },
      "source": [
        "b=None"
      ],
      "execution_count": 156,
      "outputs": []
    },
    {
      "cell_type": "code",
      "metadata": {
        "colab": {
          "base_uri": "https://localhost:8080/"
        },
        "id": "vqDnRq9xxPXC",
        "outputId": "efee39a6-7a07-41d5-e1ae-834365c521cd"
      },
      "source": [
        "print(b)"
      ],
      "execution_count": 157,
      "outputs": [
        {
          "output_type": "stream",
          "text": [
            "None\n"
          ],
          "name": "stdout"
        }
      ]
    },
    {
      "cell_type": "code",
      "metadata": {
        "id": "Mvh49l63xfbv"
      },
      "source": [
        ""
      ],
      "execution_count": 157,
      "outputs": []
    },
    {
      "cell_type": "markdown",
      "metadata": {
        "id": "4vghmcnD2XoT"
      },
      "source": [
        "**statemnt**\r\n",
        "\r\n",
        "New Section"
      ]
    },
    {
      "cell_type": "code",
      "metadata": {
        "id": "QFMoVQnC2dAb"
      },
      "source": [
        "#if,else,elif"
      ],
      "execution_count": 158,
      "outputs": []
    },
    {
      "cell_type": "code",
      "metadata": {
        "colab": {
          "base_uri": "https://localhost:8080/"
        },
        "id": "1FoIWqK32mYu",
        "outputId": "764449d8-8513-4c22-b440-bf55488e6578"
      },
      "source": [
        "if 5>3:\r\n",
        "  print('i love u ')"
      ],
      "execution_count": 159,
      "outputs": [
        {
          "output_type": "stream",
          "text": [
            "i love u \n"
          ],
          "name": "stdout"
        }
      ]
    },
    {
      "cell_type": "code",
      "metadata": {
        "id": "2q43-7qF2tt_"
      },
      "source": [
        "#inedentation"
      ],
      "execution_count": 160,
      "outputs": []
    },
    {
      "cell_type": "code",
      "metadata": {
        "colab": {
          "base_uri": "https://localhost:8080/"
        },
        "id": "V13kmBG95Cx4",
        "outputId": "787fe573-8034-49b8-cbc1-5fe9eabc871a"
      },
      "source": [
        "a=8\r\n",
        "b=6\r\n",
        "\r\n",
        "if a>b:\r\n",
        "  print('a')\r\n",
        "else:\r\n",
        "  print('b')\r\n",
        "\r\n",
        "\r\n"
      ],
      "execution_count": 161,
      "outputs": [
        {
          "output_type": "stream",
          "text": [
            "a\n"
          ],
          "name": "stdout"
        }
      ]
    },
    {
      "cell_type": "code",
      "metadata": {
        "colab": {
          "base_uri": "https://localhost:8080/"
        },
        "id": "GCKPCj1754M1",
        "outputId": "92f6cd64-8d76-40d2-ad0d-0eac4aeaeb6a"
      },
      "source": [
        "a=1\r\n",
        "b=2\r\n",
        "c=3\r\n",
        "if a>b:\r\n",
        "  print('a')\r\n",
        "elif b>c:\r\n",
        "  print('b')\r\n",
        "else :\r\n",
        "  print('c')\r\n"
      ],
      "execution_count": 162,
      "outputs": [
        {
          "output_type": "stream",
          "text": [
            "c\n"
          ],
          "name": "stdout"
        }
      ]
    },
    {
      "cell_type": "code",
      "metadata": {
        "id": "CrtFIUxK9zJR"
      },
      "source": [
        "l1=[1,2,3,4,5,6,7,8,0]"
      ],
      "execution_count": 163,
      "outputs": []
    },
    {
      "cell_type": "code",
      "metadata": {
        "colab": {
          "base_uri": "https://localhost:8080/"
        },
        "id": "bD99fQW7-S75",
        "outputId": "4356aefa-35d8-42e3-c3ca-3d89ceea6a1b"
      },
      "source": [
        "for i in l1:\r\n",
        "  print(i)"
      ],
      "execution_count": 164,
      "outputs": [
        {
          "output_type": "stream",
          "text": [
            "1\n",
            "2\n",
            "3\n",
            "4\n",
            "5\n",
            "6\n",
            "7\n",
            "8\n",
            "0\n"
          ],
          "name": "stdout"
        }
      ]
    },
    {
      "cell_type": "code",
      "metadata": {
        "colab": {
          "base_uri": "https://localhost:8080/"
        },
        "id": "h4sy5U1x-bzw",
        "outputId": "b8e2fc3c-d035-4946-95bf-a628cf7b9a7b"
      },
      "source": [
        "for i in l1:\r\n",
        "  if i%2==0:\r\n",
        "    print(i)\r\n",
        "  else:\r\n",
        "    print('odd')"
      ],
      "execution_count": 165,
      "outputs": [
        {
          "output_type": "stream",
          "text": [
            "odd\n",
            "2\n",
            "odd\n",
            "4\n",
            "odd\n",
            "6\n",
            "odd\n",
            "8\n",
            "0\n"
          ],
          "name": "stdout"
        }
      ]
    },
    {
      "cell_type": "code",
      "metadata": {
        "colab": {
          "base_uri": "https://localhost:8080/"
        },
        "id": "DMPzPw3u_l7T",
        "outputId": "e2e1e1b8-5a16-4d5b-ef57-0e8ffe5002a1"
      },
      "source": [
        "x=0\r\n",
        "while x<5:\r\n",
        "  print('x is :',x)\r\n",
        "  print('x is still less than 5, addition to it')\r\n",
        "  x=x+1"
      ],
      "execution_count": 166,
      "outputs": [
        {
          "output_type": "stream",
          "text": [
            "x is : 0\n",
            "x is still less than 5, addition to it\n",
            "x is : 1\n",
            "x is still less than 5, addition to it\n",
            "x is : 2\n",
            "x is still less than 5, addition to it\n",
            "x is : 3\n",
            "x is still less than 5, addition to it\n",
            "x is : 4\n",
            "x is still less than 5, addition to it\n"
          ],
          "name": "stdout"
        }
      ]
    },
    {
      "cell_type": "code",
      "metadata": {
        "id": "yUAatOEqBG0H"
      },
      "source": [
        "def say_hello():\r\n",
        "  print('hello world')"
      ],
      "execution_count": 167,
      "outputs": []
    },
    {
      "cell_type": "code",
      "metadata": {
        "colab": {
          "base_uri": "https://localhost:8080/"
        },
        "id": "1nj3RxrdB6PP",
        "outputId": "507e17e1-b32a-4aa1-c8ca-167c95dac275"
      },
      "source": [
        "say_hello()"
      ],
      "execution_count": 168,
      "outputs": [
        {
          "output_type": "stream",
          "text": [
            "hello world\n"
          ],
          "name": "stdout"
        }
      ]
    },
    {
      "cell_type": "code",
      "metadata": {
        "id": "w1DKbIOkCGZr"
      },
      "source": [
        "def greet(name):\r\n",
        "  print('hello %s'%(name))"
      ],
      "execution_count": 169,
      "outputs": []
    },
    {
      "cell_type": "code",
      "metadata": {
        "colab": {
          "base_uri": "https://localhost:8080/"
        },
        "id": "aheZbcJMEXLM",
        "outputId": "21e47dfe-d108-4af8-b4e2-ea25a5c5c892"
      },
      "source": [
        "greet('asif')"
      ],
      "execution_count": 170,
      "outputs": [
        {
          "output_type": "stream",
          "text": [
            "hello asif\n"
          ],
          "name": "stdout"
        }
      ]
    },
    {
      "cell_type": "code",
      "metadata": {
        "id": "EIoiXyMzIJo4"
      },
      "source": [
        "def add(n1,n2):\r\n",
        "  return n1+n2"
      ],
      "execution_count": 171,
      "outputs": []
    },
    {
      "cell_type": "code",
      "metadata": {
        "id": "sBTBURUeIRFy",
        "colab": {
          "base_uri": "https://localhost:8080/"
        },
        "outputId": "c8ffb2b7-281c-4b52-e760-f8bdc0d88150"
      },
      "source": [
        "add(2,3)"
      ],
      "execution_count": 172,
      "outputs": [
        {
          "output_type": "execute_result",
          "data": {
            "text/plain": [
              "5"
            ]
          },
          "metadata": {
            "tags": []
          },
          "execution_count": 172
        }
      ]
    },
    {
      "cell_type": "markdown",
      "metadata": {
        "id": "yW1QNLMJ1Dgk"
      },
      "source": [
        "generator"
      ]
    },
    {
      "cell_type": "code",
      "metadata": {
        "id": "4EqyY4ey1GYQ"
      },
      "source": [
        "def hello(name='asif'):\r\n",
        "  return'hello'+name"
      ],
      "execution_count": 173,
      "outputs": []
    },
    {
      "cell_type": "code",
      "metadata": {
        "colab": {
          "base_uri": "https://localhost:8080/",
          "height": 35
        },
        "id": "OHLPBkwX1YSQ",
        "outputId": "09d6b66b-64ef-4027-8d40-db6f87189df2"
      },
      "source": [
        "hello()"
      ],
      "execution_count": 174,
      "outputs": [
        {
          "output_type": "execute_result",
          "data": {
            "application/vnd.google.colaboratory.intrinsic+json": {
              "type": "string"
            },
            "text/plain": [
              "'helloasif'"
            ]
          },
          "metadata": {
            "tags": []
          },
          "execution_count": 174
        }
      ]
    },
    {
      "cell_type": "code",
      "metadata": {
        "id": "F9-BDoas1a9J"
      },
      "source": [
        "greet=hello\r\n"
      ],
      "execution_count": 175,
      "outputs": []
    },
    {
      "cell_type": "code",
      "metadata": {
        "colab": {
          "base_uri": "https://localhost:8080/"
        },
        "id": "DB8XGp-l1es8",
        "outputId": "5390a19c-b08f-43be-d9f3-2b6027d98221"
      },
      "source": [
        "greet"
      ],
      "execution_count": 176,
      "outputs": [
        {
          "output_type": "execute_result",
          "data": {
            "text/plain": [
              "<function __main__.hello>"
            ]
          },
          "metadata": {
            "tags": []
          },
          "execution_count": 176
        }
      ]
    },
    {
      "cell_type": "code",
      "metadata": {
        "colab": {
          "base_uri": "https://localhost:8080/",
          "height": 35
        },
        "id": "lXJwyFY01hYx",
        "outputId": "8ebb61b2-5b4c-4185-ddf9-f94326bb0b2c"
      },
      "source": [
        "greet()"
      ],
      "execution_count": 177,
      "outputs": [
        {
          "output_type": "execute_result",
          "data": {
            "application/vnd.google.colaboratory.intrinsic+json": {
              "type": "string"
            },
            "text/plain": [
              "'helloasif'"
            ]
          },
          "metadata": {
            "tags": []
          },
          "execution_count": 177
        }
      ]
    },
    {
      "cell_type": "code",
      "metadata": {
        "id": "aWH2lKtS2J_G"
      },
      "source": [
        "def cubes(n):\r\n",
        "  for i in range(n):\r\n",
        "      yield i**3"
      ],
      "execution_count": 178,
      "outputs": []
    },
    {
      "cell_type": "code",
      "metadata": {
        "colab": {
          "base_uri": "https://localhost:8080/"
        },
        "id": "3ENrzB_t3otV",
        "outputId": "27bbf0e4-83b1-40f0-cb92-18cbc8cd40c7"
      },
      "source": [
        "for x in cubes(5):\r\n",
        "  print(x)"
      ],
      "execution_count": 179,
      "outputs": [
        {
          "output_type": "stream",
          "text": [
            "0\n",
            "1\n",
            "8\n",
            "27\n",
            "64\n"
          ],
          "name": "stdout"
        }
      ]
    },
    {
      "cell_type": "code",
      "metadata": {
        "id": "wzu_I9p631Cs"
      },
      "source": [
        "l1=[6,7,8]"
      ],
      "execution_count": 180,
      "outputs": []
    },
    {
      "cell_type": "code",
      "metadata": {
        "colab": {
          "base_uri": "https://localhost:8080/"
        },
        "id": "A0Cp_wxn4tAL",
        "outputId": "3cc9a95c-4c34-4430-b6b5-83b6a2e7cbed"
      },
      "source": [
        "l1.count(6)"
      ],
      "execution_count": 181,
      "outputs": [
        {
          "output_type": "execute_result",
          "data": {
            "text/plain": [
              "1"
            ]
          },
          "metadata": {
            "tags": []
          },
          "execution_count": 181
        }
      ]
    },
    {
      "cell_type": "code",
      "metadata": {
        "colab": {
          "base_uri": "https://localhost:8080/"
        },
        "id": "DDhr-nC04xwE",
        "outputId": "d61f72bf-a246-40aa-b6f2-a303cbb5332d"
      },
      "source": [
        "print(type(4))"
      ],
      "execution_count": 182,
      "outputs": [
        {
          "output_type": "stream",
          "text": [
            "<class 'int'>\n"
          ],
          "name": "stdout"
        }
      ]
    },
    {
      "cell_type": "markdown",
      "metadata": {
        "id": "nT2VHf6v43Ql"
      },
      "source": [
        ""
      ]
    },
    {
      "cell_type": "code",
      "metadata": {
        "colab": {
          "base_uri": "https://localhost:8080/"
        },
        "id": "SCrZMbZ443l8",
        "outputId": "d0b154e4-3bfb-4e20-e211-45c9c6c05bc6"
      },
      "source": [
        "print(type([]))"
      ],
      "execution_count": 183,
      "outputs": [
        {
          "output_type": "stream",
          "text": [
            "<class 'list'>\n"
          ],
          "name": "stdout"
        }
      ]
    },
    {
      "cell_type": "code",
      "metadata": {
        "colab": {
          "base_uri": "https://localhost:8080/"
        },
        "id": "IdWqArxY48w3",
        "outputId": "6e27a9b1-654f-4a68-c66b-55355ce8fdb3"
      },
      "source": [
        "print(type({}))"
      ],
      "execution_count": 184,
      "outputs": [
        {
          "output_type": "stream",
          "text": [
            "<class 'dict'>\n"
          ],
          "name": "stdout"
        }
      ]
    },
    {
      "cell_type": "code",
      "metadata": {
        "colab": {
          "base_uri": "https://localhost:8080/"
        },
        "id": "GJt2OCZm5C3b",
        "outputId": "a1cddedf-c912-493c-a75e-0b74f1de2532"
      },
      "source": [
        "class Demo:\r\n",
        "  print('hello')"
      ],
      "execution_count": 186,
      "outputs": [
        {
          "output_type": "stream",
          "text": [
            "hello\n"
          ],
          "name": "stdout"
        }
      ]
    },
    {
      "cell_type": "code",
      "metadata": {
        "id": "tR8e2be46icI"
      },
      "source": [
        "x=Demo()"
      ],
      "execution_count": 187,
      "outputs": []
    },
    {
      "cell_type": "code",
      "metadata": {
        "colab": {
          "base_uri": "https://localhost:8080/"
        },
        "id": "snONyB5v6mT3",
        "outputId": "24a6edfc-a3e0-424a-8868-287ca03a7174"
      },
      "source": [
        "x"
      ],
      "execution_count": 188,
      "outputs": [
        {
          "output_type": "execute_result",
          "data": {
            "text/plain": [
              "<__main__.Demo at 0x7f7193150710>"
            ]
          },
          "metadata": {
            "tags": []
          },
          "execution_count": 188
        }
      ]
    },
    {
      "cell_type": "code",
      "metadata": {
        "id": "-FjQ-LI-6oqc"
      },
      "source": [
        "class Test:\r\n",
        "  def __init__(self,breed,name):\r\n",
        "    self.breed=breed\r\n",
        "    self.name=name"
      ],
      "execution_count": 189,
      "outputs": []
    },
    {
      "cell_type": "code",
      "metadata": {
        "id": "yD_1M9ts8ziF"
      },
      "source": [
        "a=Test('Lab','a')"
      ],
      "execution_count": 190,
      "outputs": []
    },
    {
      "cell_type": "code",
      "metadata": {
        "colab": {
          "base_uri": "https://localhost:8080/",
          "height": 35
        },
        "id": "ayMRZOjH9QM8",
        "outputId": "25962249-b9ca-4b9e-8709-a88a7a8af622"
      },
      "source": [
        "a.name"
      ],
      "execution_count": 191,
      "outputs": [
        {
          "output_type": "execute_result",
          "data": {
            "application/vnd.google.colaboratory.intrinsic+json": {
              "type": "string"
            },
            "text/plain": [
              "'a'"
            ]
          },
          "metadata": {
            "tags": []
          },
          "execution_count": 191
        }
      ]
    },
    {
      "cell_type": "code",
      "metadata": {
        "id": "pD_H3eEa9ZUp"
      },
      "source": [
        "b=Test('huski','b')"
      ],
      "execution_count": 192,
      "outputs": []
    },
    {
      "cell_type": "code",
      "metadata": {
        "colab": {
          "base_uri": "https://localhost:8080/",
          "height": 35
        },
        "id": "TqCbZ7ED9fPY",
        "outputId": "7a15f8f4-447b-4934-ab4f-e92be1aa619a"
      },
      "source": [
        "b.breed"
      ],
      "execution_count": 193,
      "outputs": [
        {
          "output_type": "execute_result",
          "data": {
            "application/vnd.google.colaboratory.intrinsic+json": {
              "type": "string"
            },
            "text/plain": [
              "'huski'"
            ]
          },
          "metadata": {
            "tags": []
          },
          "execution_count": 193
        }
      ]
    },
    {
      "cell_type": "markdown",
      "metadata": {
        "id": "luxguFw6_Mdz"
      },
      "source": [
        "METHOD\r\n"
      ]
    },
    {
      "cell_type": "code",
      "metadata": {
        "id": "rkVJtRC9_OSK"
      },
      "source": [
        "class Circle:\r\n",
        "  pi=3.1414\r\n",
        "\r\n",
        "  def __init__(self,radius=1):\r\n",
        "    self.radius=radius\r\n",
        "    self.area=radius*radius*Circle.pi\r\n",
        "  \r\n",
        "  def setRadius(self,new_radius):\r\n",
        "\r\n",
        "    self.radius=new_radius\r\n",
        "    self.area=new_radius*new_radius*self.pi\r\n",
        "\r\n",
        "  def getCircumference(self):\r\n",
        "    return self.radius*self.pi*2"
      ],
      "execution_count": 197,
      "outputs": []
    },
    {
      "cell_type": "code",
      "metadata": {
        "id": "wcH7h_v5EyPj"
      },
      "source": [
        "c=Circle()"
      ],
      "execution_count": 198,
      "outputs": []
    },
    {
      "cell_type": "code",
      "metadata": {
        "colab": {
          "base_uri": "https://localhost:8080/"
        },
        "id": "LNTqQMZBE_u2",
        "outputId": "94dd9426-19d7-402b-9139-2a407e16a0fd"
      },
      "source": [
        "print(\"Radius is \" ,c.radius)\r\n",
        "print(\"area is \",c.area )\r\n",
        "print('Circumference is',c.getCircumference())"
      ],
      "execution_count": 201,
      "outputs": [
        {
          "output_type": "stream",
          "text": [
            "Radius is  1\n",
            "area is  3.1414\n",
            "Circumference is 6.2828\n"
          ],
          "name": "stdout"
        }
      ]
    }
  ]
}