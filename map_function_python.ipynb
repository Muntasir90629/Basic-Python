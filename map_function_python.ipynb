{
  "nbformat": 4,
  "nbformat_minor": 0,
  "metadata": {
    "colab": {
      "name": "map function python.ipynb",
      "provenance": [],
      "authorship_tag": "ABX9TyOAp606tTaR2evUnfkovWpo",
      "include_colab_link": true
    },
    "kernelspec": {
      "name": "python3",
      "display_name": "Python 3"
    }
  },
  "cells": [
    {
      "cell_type": "markdown",
      "metadata": {
        "id": "view-in-github",
        "colab_type": "text"
      },
      "source": [
        "<a href=\"https://colab.research.google.com/github/Muntasir90629/Basic-Python/blob/master/map_function_python.ipynb\" target=\"_parent\"><img src=\"https://colab.research.google.com/assets/colab-badge.svg\" alt=\"Open In Colab\"/></a>"
      ]
    },
    {
      "cell_type": "code",
      "metadata": {
        "id": "_ht8_L-z7U3q"
      },
      "source": [
        "def even_odd(num):\r\n",
        "  if num%2==0:\r\n",
        "    return \"the {} is even\".format(num)\r\n",
        "  else :\r\n",
        "    return \"the {} is odd\".format(num)"
      ],
      "execution_count": null,
      "outputs": []
    },
    {
      "cell_type": "code",
      "metadata": {
        "colab": {
          "base_uri": "https://localhost:8080/",
          "height": 35
        },
        "id": "XgPFfZ3Z7v60",
        "outputId": "b04f9dfd-e1a1-4a7c-f3c4-0426446bf25b"
      },
      "source": [
        "even_odd(3)"
      ],
      "execution_count": null,
      "outputs": [
        {
          "output_type": "execute_result",
          "data": {
            "application/vnd.google.colaboratory.intrinsic+json": {
              "type": "string"
            },
            "text/plain": [
              "'the 3 is odd'"
            ]
          },
          "metadata": {
            "tags": []
          },
          "execution_count": 2
        }
      ]
    },
    {
      "cell_type": "code",
      "metadata": {
        "id": "Jk6JXzE58dgM"
      },
      "source": [
        "lst=[1,2,3,4,5,6,5,6,6,45,5,6,6,6,433,33,4,44]"
      ],
      "execution_count": null,
      "outputs": []
    },
    {
      "cell_type": "code",
      "metadata": {
        "colab": {
          "base_uri": "https://localhost:8080/"
        },
        "id": "NqFYNvXt8rLo",
        "outputId": "03072c82-6c78-40e6-803a-deb283fcda17"
      },
      "source": [
        "list(map(even_odd,lst))\r\n"
      ],
      "execution_count": null,
      "outputs": [
        {
          "output_type": "execute_result",
          "data": {
            "text/plain": [
              "['the 1 is odd',\n",
              " 'the 2 is even',\n",
              " 'the 3 is odd',\n",
              " 'the 4 is even',\n",
              " 'the 5 is odd',\n",
              " 'the 6 is even',\n",
              " 'the 5 is odd',\n",
              " 'the 6 is even',\n",
              " 'the 6 is even',\n",
              " 'the 45 is odd',\n",
              " 'the 5 is odd',\n",
              " 'the 6 is even',\n",
              " 'the 6 is even',\n",
              " 'the 6 is even',\n",
              " 'the 433 is odd',\n",
              " 'the 33 is odd',\n",
              " 'the 4 is even',\n",
              " 'the 44 is even']"
            ]
          },
          "metadata": {
            "tags": []
          },
          "execution_count": 5
        }
      ]
    },
    {
      "cell_type": "code",
      "metadata": {
        "id": "dyok4tU68zWt"
      },
      "source": [
        "lst=[1,2,3,4,5,6,67,7,8,89,8,7,6,8]"
      ],
      "execution_count": null,
      "outputs": []
    },
    {
      "cell_type": "code",
      "metadata": {
        "colab": {
          "base_uri": "https://localhost:8080/"
        },
        "id": "RVgupieB9JTP",
        "outputId": "c565cc59-0f49-4f38-ba0b-ae65d89fbb62"
      },
      "source": [
        "map(even_odd,lst)"
      ],
      "execution_count": null,
      "outputs": [
        {
          "output_type": "execute_result",
          "data": {
            "text/plain": [
              "<map at 0x7f8c4af668d0>"
            ]
          },
          "metadata": {
            "tags": []
          },
          "execution_count": 7
        }
      ]
    },
    {
      "cell_type": "code",
      "metadata": {
        "colab": {
          "base_uri": "https://localhost:8080/"
        },
        "id": "HXoKDdTX9QmQ",
        "outputId": "8809d4c0-fb09-4e10-ead3-4bb1f3cb6f04"
      },
      "source": [
        "list(map(even_odd,lst))"
      ],
      "execution_count": null,
      "outputs": [
        {
          "output_type": "execute_result",
          "data": {
            "text/plain": [
              "['the 1 is odd',\n",
              " 'the 2 is even',\n",
              " 'the 3 is odd',\n",
              " 'the 4 is even',\n",
              " 'the 5 is odd',\n",
              " 'the 6 is even',\n",
              " 'the 67 is odd',\n",
              " 'the 7 is odd',\n",
              " 'the 8 is even',\n",
              " 'the 89 is odd',\n",
              " 'the 8 is even',\n",
              " 'the 7 is odd',\n",
              " 'the 6 is even',\n",
              " 'the 8 is even']"
            ]
          },
          "metadata": {
            "tags": []
          },
          "execution_count": 9
        }
      ]
    },
    {
      "cell_type": "code",
      "metadata": {
        "colab": {
          "base_uri": "https://localhost:8080/"
        },
        "id": "PhzBcYwU9d3j",
        "outputId": "252d84a5-1d62-4494-c7a9-d26ebed15f63"
      },
      "source": [
        "for m in lst:\r\n",
        "  print(even_odd(m))"
      ],
      "execution_count": null,
      "outputs": [
        {
          "output_type": "stream",
          "text": [
            "the 1 is odd\n",
            "the 2 is even\n",
            "the 3 is odd\n",
            "the 4 is even\n",
            "the 5 is odd\n",
            "the 6 is even\n",
            "the 67 is odd\n",
            "the 7 is odd\n",
            "the 8 is even\n",
            "the 89 is odd\n",
            "the 8 is even\n",
            "the 7 is odd\n",
            "the 6 is even\n",
            "the 8 is even\n"
          ],
          "name": "stdout"
        }
      ]
    }
  ]
}