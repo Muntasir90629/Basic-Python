{
  "nbformat": 4,
  "nbformat_minor": 0,
  "metadata": {
    "colab": {
      "name": " Python Advanced String Formatting.ipynb",
      "provenance": [],
      "authorship_tag": "ABX9TyNLjsjwQj9vJ8jy8qcCnx/V",
      "include_colab_link": true
    },
    "kernelspec": {
      "name": "python3",
      "display_name": "Python 3"
    }
  },
  "cells": [
    {
      "cell_type": "markdown",
      "metadata": {
        "id": "view-in-github",
        "colab_type": "text"
      },
      "source": [
        "<a href=\"https://colab.research.google.com/github/Muntasir90629/Basic-Python/blob/master/Python_Advanced_String_Formatting.ipynb\" target=\"_parent\"><img src=\"https://colab.research.google.com/assets/colab-badge.svg\" alt=\"Open In Colab\"/></a>"
      ]
    },
    {
      "cell_type": "code",
      "metadata": {
        "colab": {
          "base_uri": "https://localhost:8080/"
        },
        "id": "0yplT7qONxNe",
        "outputId": "22cdd8ef-d644-4c5c-82e3-3741fced057a"
      },
      "source": [
        "print(\"hello everyone\")"
      ],
      "execution_count": 1,
      "outputs": [
        {
          "output_type": "stream",
          "text": [
            "hello everyone\n"
          ],
          "name": "stdout"
        }
      ]
    },
    {
      "cell_type": "code",
      "metadata": {
        "id": "q4ITBWPUOL0B"
      },
      "source": [
        "strs=\"hello everyone\""
      ],
      "execution_count": 2,
      "outputs": []
    },
    {
      "cell_type": "code",
      "metadata": {
        "id": "JVJuvUNLOPuG"
      },
      "source": [
        "def greeting(name):\r\n",
        "  return \"hell {} .well come to the community\".format(name)\r\n"
      ],
      "execution_count": 3,
      "outputs": []
    },
    {
      "cell_type": "code",
      "metadata": {
        "colab": {
          "base_uri": "https://localhost:8080/",
          "height": 35
        },
        "id": "6uUibvQOPbyi",
        "outputId": "cf5e6982-95a5-404a-b092-ea1bfd4c3136"
      },
      "source": [
        "greeting(\"mun\")"
      ],
      "execution_count": 5,
      "outputs": [
        {
          "output_type": "execute_result",
          "data": {
            "application/vnd.google.colaboratory.intrinsic+json": {
              "type": "string"
            },
            "text/plain": [
              "'hell mun .well come to the community'"
            ]
          },
          "metadata": {
            "tags": []
          },
          "execution_count": 5
        }
      ]
    },
    {
      "cell_type": "code",
      "metadata": {
        "id": "pdC0HeQxPoiq"
      },
      "source": [
        "def wellcome_email(firstname,lastname):\r\n",
        "  return \"Welcome {} please let us know  ur  sir name is {}\".format(firstname,lastname)"
      ],
      "execution_count": 6,
      "outputs": []
    },
    {
      "cell_type": "code",
      "metadata": {
        "colab": {
          "base_uri": "https://localhost:8080/",
          "height": 35
        },
        "id": "Dd6uMg51Qym4",
        "outputId": "f385a44b-e7af-4c1a-bf47-49d8a2b48a7a"
      },
      "source": [
        "wellcome_email(\"asif\",\"iqbal\")"
      ],
      "execution_count": 7,
      "outputs": [
        {
          "output_type": "execute_result",
          "data": {
            "application/vnd.google.colaboratory.intrinsic+json": {
              "type": "string"
            },
            "text/plain": [
              "'Welcome asifplease let us know  ur  sir name is iqbal'"
            ]
          },
          "metadata": {
            "tags": []
          },
          "execution_count": 7
        }
      ]
    },
    {
      "cell_type": "code",
      "metadata": {
        "id": "2IUHDGX1RBUE"
      },
      "source": [
        "def greet(name,age):\r\n",
        "  return \"Welconme {name} your age {age}\".format(name=age,age=name)"
      ],
      "execution_count": 8,
      "outputs": []
    },
    {
      "cell_type": "code",
      "metadata": {
        "colab": {
          "base_uri": "https://localhost:8080/",
          "height": 35
        },
        "id": "q0LPvYufVztm",
        "outputId": "f9b8576f-b3e6-4540-a76c-a7f71867a57b"
      },
      "source": [
        "greet(\"krish\",34)"
      ],
      "execution_count": 9,
      "outputs": [
        {
          "output_type": "execute_result",
          "data": {
            "application/vnd.google.colaboratory.intrinsic+json": {
              "type": "string"
            },
            "text/plain": [
              "'Welconme 34 your age krish'"
            ]
          },
          "metadata": {
            "tags": []
          },
          "execution_count": 9
        }
      ]
    },
    {
      "cell_type": "code",
      "metadata": {
        "id": "Kv1txSOoV38C"
      },
      "source": [
        ""
      ],
      "execution_count": null,
      "outputs": []
    }
  ]
}